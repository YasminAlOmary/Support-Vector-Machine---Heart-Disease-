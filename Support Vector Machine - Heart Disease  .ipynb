{
 "cells": [
  {
   "cell_type": "code",
   "execution_count": 2,
   "id": "cb9892f3-5e17-4294-8ddb-603043ea9a9e",
   "metadata": {},
   "outputs": [
    {
     "name": "stdout",
     "output_type": "stream",
     "text": [
      "target\n",
      "1    10\n",
      "0     5\n",
      "Name: count, dtype: int64\n"
     ]
    }
   ],
   "source": [
    "import pandas as pd\n",
    "from sklearn.model_selection import train_test_split\n",
    "from sklearn.svm import SVC\n",
    "from sklearn.preprocessing import StandardScaler\n",
    "from sklearn.metrics import classification_report, accuracy_score, confusion_matrix\n",
    "import matplotlib.pyplot as plt\n",
    "import seaborn as sns\n",
    "\n",
    "# Step 1: Load the dataset\n",
    "file_path = 'heart_disease_clean_dataset.csv'  # Update with your dataset path\n",
    "df = pd.read_csv(file_path)\n",
    "\n",
    "# Step 2: Add artificial data for 'no heart disease' (target=0) \n",
    "# age: The age of the patient (in years). sex: The gender of the patient (1 = male, 0 = female).\n",
    "# cp: Chest pain type (0 to 3, with 3 indicating the most severe pain).trestbps: Resting blood pressure (in mm Hg).\n",
    "# chol: Serum cholesterol level (in mg/dl). fbs: Fasting blood sugar (> 120 mg/dl) (1 = true, 0 = false).\n",
    "# restecg: Resting electrocardiographic results (0 = normal, 1 = ST-T wave abnormality, 2 = left ventricular hypertrophy).\n",
    "# thalach: Maximum heart rate achieved.\n",
    "# exang: Exercise-induced angina (1 = yes, 0 = no).\n",
    "# oldpeak: ST depression induced by exercise relative to rest.\n",
    "# slope : The slope of the peak exercise ST segment (0 = upsloping, 1 = flat, 2 = downsloping).\n",
    "# ca: Number of major vessels (0–3) colored by fluoroscopy.\n",
    "# thal: Thalassemia (1 = normal, 2 = fixed defect, 3 = reversible defect).\n",
    "# target: Presence of heart disease (1 = disease, 0 = no disease).\n",
    "\n",
    "new_data = {\n",
    "    'age': [54, 35, 67, 45, 60],\n",
    "    'sex': [1, 0, 1, 1, 0],\n",
    "    'cp': [0, 2, 1, 0, 3],\n",
    "    'trestbps': [132, 120, 148, 115, 140],\n",
    "    'chol': [218, 210, 236, 170, 220],\n",
    "    'fbs': [0, 1, 0, 0, 1],\n",
    "    'restecg': [1, 0, 1, 1, 0],\n",
    "    'thalach': [160, 158, 130, 178, 138],\n",
    "    'exang': [0, 1, 0, 0, 1],\n",
    "    'oldpeak': [0.2, 1.5, 0.6, 0.9, 0.4],\n",
    "    'slope': [1, 2, 0, 2, 1],\n",
    "    'ca': [0, 1, 2, 0, 1],\n",
    "    'thal': [2, 1, 3, 2, 1],\n",
    "    'target': [0, 0, 0, 0, 0]  # Target: No heart disease\n",
    "}\n",
    "\n",
    "# Append the new data (target = 0) to the original dataset\n",
    "df_new = pd.concat([df, pd.DataFrame(new_data)], ignore_index=True)\n",
    "\n",
    "# Show the updated dataset distribution\n",
    "print(df_new['target'].value_counts()) "
   ]
  },
  {
   "cell_type": "code",
   "execution_count": 4,
   "id": "f8a320b0-5047-403d-b0e3-1f1c21bd3c22",
   "metadata": {},
   "outputs": [
    {
     "name": "stdout",
     "output_type": "stream",
     "text": [
      "target\n",
      "1    10\n",
      "0     5\n",
      "Name: count, dtype: int64\n"
     ]
    }
   ],
   "source": [
    "import pandas as pd\n",
    "from sklearn.model_selection import train_test_split\n",
    "from sklearn.svm import SVC\n",
    "from sklearn.preprocessing import StandardScaler\n",
    "from sklearn.metrics import classification_report, accuracy_score, confusion_matrix\n",
    "import matplotlib.pyplot as plt\n",
    "import seaborn as sns\n",
    "\n",
    "# Step 1: Load the dataset\n",
    "file_path = 'heart_disease_clean_dataset.csv'  # Update with your dataset path\n",
    "df = pd.read_csv(file_path)\n",
    "\n",
    "# Step 2: Add artificial data for 'no heart disease' (target=0)\n",
    "new_data = {\n",
    "    'age': [54, 35, 67, 45, 60],\n",
    "    'sex': [1, 0, 1, 1, 0],\n",
    "    'cp': [0, 2, 1, 0, 3],\n",
    "    'trestbps': [132, 120, 148, 115, 140],\n",
    "    'chol': [218, 210, 236, 170, 220],\n",
    "    'fbs': [0, 1, 0, 0, 1],\n",
    "    'restecg': [1, 0, 1, 1, 0],\n",
    "    'thalach': [160, 158, 130, 178, 138],\n",
    "    'exang': [0, 1, 0, 0, 1],\n",
    "    'oldpeak': [0.2, 1.5, 0.6, 0.9, 0.4],\n",
    "    'slope': [1, 2, 0, 2, 1],\n",
    "    'ca': [0, 1, 2, 0, 1],\n",
    "    'thal': [2, 1, 3, 2, 1],\n",
    "    'target': [0, 0, 0, 0, 0]  # Target: No heart disease\n",
    "}\n",
    "\n",
    "# Append the new data (target = 0) to the original dataset\n",
    "df_new = pd.concat([df, pd.DataFrame(new_data)], ignore_index=True)\n",
    "\n",
    "# Show the updated dataset distribution\n",
    "print(df_new['target'].value_counts())"
   ]
  },
  {
   "cell_type": "code",
   "execution_count": 6,
   "id": "2c934253-a423-4aea-8221-6a2d1aa69cbe",
   "metadata": {},
   "outputs": [],
   "source": [
    "# Step 3: Preprocess the data .\n",
    "# This step is to separate the features and the target variable and standardize the features to improve the performance of the SVM model.\n",
    "# Define features (X) and target (y)\n",
    "X = df_new.drop('target', axis=1)  # Features: all columns except 'target'\n",
    "y = df_new['target']  # Target: the 'target' column\n",
    "\n",
    "# Standardize the feature values\n",
    "scaler = StandardScaler()\n",
    "X_scaled = scaler.fit_transform(X)"
   ]
  },
  {
   "cell_type": "code",
   "execution_count": 8,
   "id": "335bb270-e431-43a6-9b3d-a1194bb809ab",
   "metadata": {},
   "outputs": [],
   "source": [
    "# Step 4: Split the dataset into training and testing sets\n",
    "X_train, X_test, y_train, y_test = train_test_split(X_scaled, y, test_size=0.3, random_state=42)\n"
   ]
  },
  {
   "cell_type": "code",
   "execution_count": 10,
   "id": "84998941-7a85-4e9d-a240-cad40e5f9df4",
   "metadata": {},
   "outputs": [
    {
     "data": {
      "text/html": [
       "<style>#sk-container-id-1 {color: black;background-color: white;}#sk-container-id-1 pre{padding: 0;}#sk-container-id-1 div.sk-toggleable {background-color: white;}#sk-container-id-1 label.sk-toggleable__label {cursor: pointer;display: block;width: 100%;margin-bottom: 0;padding: 0.3em;box-sizing: border-box;text-align: center;}#sk-container-id-1 label.sk-toggleable__label-arrow:before {content: \"▸\";float: left;margin-right: 0.25em;color: #696969;}#sk-container-id-1 label.sk-toggleable__label-arrow:hover:before {color: black;}#sk-container-id-1 div.sk-estimator:hover label.sk-toggleable__label-arrow:before {color: black;}#sk-container-id-1 div.sk-toggleable__content {max-height: 0;max-width: 0;overflow: hidden;text-align: left;background-color: #f0f8ff;}#sk-container-id-1 div.sk-toggleable__content pre {margin: 0.2em;color: black;border-radius: 0.25em;background-color: #f0f8ff;}#sk-container-id-1 input.sk-toggleable__control:checked~div.sk-toggleable__content {max-height: 200px;max-width: 100%;overflow: auto;}#sk-container-id-1 input.sk-toggleable__control:checked~label.sk-toggleable__label-arrow:before {content: \"▾\";}#sk-container-id-1 div.sk-estimator input.sk-toggleable__control:checked~label.sk-toggleable__label {background-color: #d4ebff;}#sk-container-id-1 div.sk-label input.sk-toggleable__control:checked~label.sk-toggleable__label {background-color: #d4ebff;}#sk-container-id-1 input.sk-hidden--visually {border: 0;clip: rect(1px 1px 1px 1px);clip: rect(1px, 1px, 1px, 1px);height: 1px;margin: -1px;overflow: hidden;padding: 0;position: absolute;width: 1px;}#sk-container-id-1 div.sk-estimator {font-family: monospace;background-color: #f0f8ff;border: 1px dotted black;border-radius: 0.25em;box-sizing: border-box;margin-bottom: 0.5em;}#sk-container-id-1 div.sk-estimator:hover {background-color: #d4ebff;}#sk-container-id-1 div.sk-parallel-item::after {content: \"\";width: 100%;border-bottom: 1px solid gray;flex-grow: 1;}#sk-container-id-1 div.sk-label:hover label.sk-toggleable__label {background-color: #d4ebff;}#sk-container-id-1 div.sk-serial::before {content: \"\";position: absolute;border-left: 1px solid gray;box-sizing: border-box;top: 0;bottom: 0;left: 50%;z-index: 0;}#sk-container-id-1 div.sk-serial {display: flex;flex-direction: column;align-items: center;background-color: white;padding-right: 0.2em;padding-left: 0.2em;position: relative;}#sk-container-id-1 div.sk-item {position: relative;z-index: 1;}#sk-container-id-1 div.sk-parallel {display: flex;align-items: stretch;justify-content: center;background-color: white;position: relative;}#sk-container-id-1 div.sk-item::before, #sk-container-id-1 div.sk-parallel-item::before {content: \"\";position: absolute;border-left: 1px solid gray;box-sizing: border-box;top: 0;bottom: 0;left: 50%;z-index: -1;}#sk-container-id-1 div.sk-parallel-item {display: flex;flex-direction: column;z-index: 1;position: relative;background-color: white;}#sk-container-id-1 div.sk-parallel-item:first-child::after {align-self: flex-end;width: 50%;}#sk-container-id-1 div.sk-parallel-item:last-child::after {align-self: flex-start;width: 50%;}#sk-container-id-1 div.sk-parallel-item:only-child::after {width: 0;}#sk-container-id-1 div.sk-dashed-wrapped {border: 1px dashed gray;margin: 0 0.4em 0.5em 0.4em;box-sizing: border-box;padding-bottom: 0.4em;background-color: white;}#sk-container-id-1 div.sk-label label {font-family: monospace;font-weight: bold;display: inline-block;line-height: 1.2em;}#sk-container-id-1 div.sk-label-container {text-align: center;}#sk-container-id-1 div.sk-container {/* jupyter's `normalize.less` sets `[hidden] { display: none; }` but bootstrap.min.css set `[hidden] { display: none !important; }` so we also need the `!important` here to be able to override the default hidden behavior on the sphinx rendered scikit-learn.org. See: https://github.com/scikit-learn/scikit-learn/issues/21755 */display: inline-block !important;position: relative;}#sk-container-id-1 div.sk-text-repr-fallback {display: none;}</style><div id=\"sk-container-id-1\" class=\"sk-top-container\"><div class=\"sk-text-repr-fallback\"><pre>SVC(kernel=&#x27;linear&#x27;)</pre><b>In a Jupyter environment, please rerun this cell to show the HTML representation or trust the notebook. <br />On GitHub, the HTML representation is unable to render, please try loading this page with nbviewer.org.</b></div><div class=\"sk-container\" hidden><div class=\"sk-item\"><div class=\"sk-estimator sk-toggleable\"><input class=\"sk-toggleable__control sk-hidden--visually\" id=\"sk-estimator-id-1\" type=\"checkbox\" checked><label for=\"sk-estimator-id-1\" class=\"sk-toggleable__label sk-toggleable__label-arrow\">SVC</label><div class=\"sk-toggleable__content\"><pre>SVC(kernel=&#x27;linear&#x27;)</pre></div></div></div></div></div>"
      ],
      "text/plain": [
       "SVC(kernel='linear')"
      ]
     },
     "execution_count": 10,
     "metadata": {},
     "output_type": "execute_result"
    }
   ],
   "source": [
    "# Step 5: Train the SVM classifier\n",
    "svm = SVC(kernel='linear')  # Using a linear kernel for SVM\n",
    "svm.fit(X_train, y_train)"
   ]
  },
  {
   "cell_type": "code",
   "execution_count": 12,
   "id": "fd75e12a-bc64-4e0b-8deb-ff518df077a2",
   "metadata": {},
   "outputs": [
    {
     "name": "stdout",
     "output_type": "stream",
     "text": [
      "Accuracy: 0.20\n",
      "Classification Report:\n",
      "              precision    recall  f1-score   support\n",
      "\n",
      "           0       0.00      0.00      0.00         2\n",
      "           1       0.33      0.33      0.33         3\n",
      "\n",
      "    accuracy                           0.20         5\n",
      "   macro avg       0.17      0.17      0.17         5\n",
      "weighted avg       0.20      0.20      0.20         5\n",
      "\n",
      "Confusion Matrix:\n",
      "[[0 2]\n",
      " [2 1]]\n"
     ]
    },
    {
     "data": {
      "image/png": "[encoded data removed]",
      "text/plain": [
       "<Figure size 800x600 with 2 Axes>"
      ]
     },
     "metadata": {},
     "output_type": "display_data"
    }
   ],
   "source": [
    "# Step 6: Make predictions on the test set\n",
    "y_pred = svm.predict(X_test)\n",
    "\n",
    "# Calculate accuracy\n",
    "accuracy = accuracy_score(y_test, y_pred)\n",
    "print(f'Accuracy: {accuracy:.2f}')\n",
    "\n",
    "# Generate classification report\n",
    "print(\"Classification Report:\")\n",
    "print(classification_report(y_test, y_pred))\n",
    "\n",
    "# Confusion matrix\n",
    "conf_matrix = confusion_matrix(y_test, y_pred)\n",
    "print(\"Confusion Matrix:\")\n",
    "print(conf_matrix)\n",
    "\n",
    "# Visualize confusion matrix using seaborn\n",
    "plt.figure(figsize=(8, 6))\n",
    "sns.heatmap(conf_matrix, annot=True, fmt='d', cmap='Blues')\n",
    "plt.title('Confusion Matrix')\n",
    "plt.xlabel('Predicted Label')\n",
    "plt.ylabel('True Label')\n",
    "plt.show()"
   ]
  },
  {
   "cell_type": "code",
   "execution_count": null,
   "id": "454beb71-141f-4cc0-98f2-02019e46cf16",
   "metadata": {},
   "outputs": [],
   "source": []
  }
 ],
 "metadata": {
  "kernelspec": {
   "display_name": "Python 3 (ipykernel)",
   "language": "python",
   "name": "python3"
  },
  "language_info": {
   "codemirror_mode": {
    "name": "ipython",
    "version": 3
   },
   "file_extension": ".py",
   "mimetype": "text/x-python",
   "name": "python",
   "nbconvert_exporter": "python",
   "pygments_lexer": "ipython3",
   "version": "3.11.7"
  }
 },
 "nbformat": 4,
 "nbformat_minor": 5
}
